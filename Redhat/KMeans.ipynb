{
 "cells": [
  {
   "cell_type": "code",
   "execution_count": 1,
   "metadata": {
    "collapsed": true
   },
   "outputs": [],
   "source": [
    "%matplotlib inline"
   ]
  },
  {
   "cell_type": "code",
   "execution_count": 2,
   "metadata": {
    "collapsed": false
   },
   "outputs": [],
   "source": [
    "import datetime\n",
    "import numpy as np \n",
    "import pandas as pd \n",
    "from sklearn.cross_validation import KFold\n",
    "from sklearn.cross_validation import train_test_split\n",
    "from sklearn import cross_validation\n",
    "from sklearn.metrics import roc_auc_score\n",
    "from sklearn.learning_curve import learning_curve\n",
    "from sklearn import ensemble\n",
    "from sklearn import linear_model\n",
    "from sklearn import metrics\n",
    "from sklearn.feature_selection import SelectFromModel\n",
    "from sklearn.grid_search import GridSearchCV\n",
    "from sklearn import cluster\n",
    "from sklearn import preprocessing\n",
    "\n",
    "import xgboost as xgb\n",
    "\n",
    "import seaborn as sns\n",
    "import matplotlib.pyplot as plt\n",
    "import prettyplotlib as ppl\n",
    "import brewer2mpl\n",
    "import random\n",
    "from operator import itemgetter\n",
    "import time\n",
    "import copy"
   ]
  },
  {
   "cell_type": "code",
   "execution_count": 3,
   "metadata": {
    "collapsed": false
   },
   "outputs": [],
   "source": [
    "set2 = brewer2mpl.get_map('Set2', 'qualitative', 8).mpl_colors\n",
    "\n",
    "font = {'family' : 'serif',\n",
    "        'color'  : 'darkred',\n",
    "        'weight' : 'bold',\n",
    "        'size'   : 16,\n",
    "        }\n",
    "plt.rc('font',family='serif')\n",
    "plt.rc('font', size=16)\n",
    "plt.rc('font', weight='bold')\n",
    "plt.style.use('fivethirtyeight')\n",
    "    \n",
    "# Get current size\n",
    "fig_size = plt.rcParams[\"figure.figsize\"]\n",
    " \n",
    "# Set figure width to 6 and height to 6\n",
    "fig_size[0] = 6\n",
    "fig_size[1] = 6\n",
    "plt.rcParams[\"figure.figsize\"] = fig_size"
   ]
  },
  {
   "cell_type": "markdown",
   "metadata": {},
   "source": [
    "### Load Data"
   ]
  },
  {
   "cell_type": "code",
   "execution_count": 4,
   "metadata": {
    "collapsed": true
   },
   "outputs": [],
   "source": [
    "train = pd.read_csv('data/act_train.csv', dtype={'people_id': np.str,\n",
    "                               'activity_id': np.str,\n",
    "                               'outcome': np.int8}, parse_dates=['date'])\n",
    "test = pd.read_csv('data/act_test.csv', dtype={'people_id': np.str,\n",
    "                              'activity_id': np.str}, parse_dates=['date'])\n",
    "people = pd.read_csv('data/people.csv', dtype={'people_id': np.str,\n",
    "                              'activity_id': np.str,\n",
    "                              'char_38': np.int32},parse_dates=['date'])"
   ]
  },
  {
   "cell_type": "markdown",
   "metadata": {
    "collapsed": false
   },
   "source": [
    "### Cleanup Data - Date, FillNaN etc"
   ]
  },
  {
   "cell_type": "code",
   "execution_count": 5,
   "metadata": {
    "collapsed": true
   },
   "outputs": [],
   "source": [
    "def date_to_julian_day(row):\n",
    "    \"\"\"Returns the Julian day number of a date.\"\"\"\n",
    "    date_format = '%m/%d%Y'\n",
    "    recorded_date = row['date']\n",
    "    a = (14 - recorded_date.month)//12\n",
    "    y = recorded_date.year + 4800 - a\n",
    "    m = recorded_date.month + 12*a - 3\n",
    "    return (recorded_date.day + ((153*m + 2)//5) + 365*y + y//4 - y//100 + y//400 - 320450)**0.5"
   ]
  },
  {
   "cell_type": "code",
   "execution_count": 6,
   "metadata": {
    "collapsed": false
   },
   "outputs": [],
   "source": [
    "people['julian'] = people.apply(date_to_julian_day, axis=1)\n",
    "people.drop('date', axis=1, inplace=True)\n",
    "people['group_1'] = people['group_1'].str.lstrip('group ').astype(np.int32)\n",
    "for i in range(1, 10):\n",
    "        people['char_' + str(i)] = people['char_' + str(i)].str.lstrip('type ').astype(np.int32)\n",
    "for i in range(10, 38):\n",
    "        people['char_' + str(i)] = people['char_' + str(i)].astype(np.int32)\n",
    "        \n",
    "        \n",
    "people_cols = [col for col in people.columns if col not in ['people_id', 'year', 'month', 'day']]\n",
    "Xp = people[people_cols]\n",
    "Xp = preprocessing.StandardScaler().fit_transform(Xp)"
   ]
  },
  {
   "cell_type": "code",
   "execution_count": null,
   "metadata": {
    "collapsed": false
   },
   "outputs": [],
   "source": [
    "km = cluster.KMeans(n_clusters=3, init='k-means++', n_init=10, max_iter=300, \n",
    "                     tol=0.0001, precompute_distances='auto', verbose=0, random_state=0, copy_x=True, n_jobs=-1)\n",
    "featurecomponents = km.fit_transform(Xp)\n",
    "\n",
    "#print(pca.explained_variance_ratio_)\n",
    "p1 = people.as_matrix(columns=['people_id'])\n",
    "combined = np.hstack([p1, featurecomponents])\n",
    "people = pd.DataFrame(data=combined, columns=['people_id', 'km1', 'km2'])  "
   ]
  },
  {
   "cell_type": "code",
   "execution_count": 9,
   "metadata": {
    "collapsed": false
   },
   "outputs": [
    {
     "data": {
      "text/html": [
       "<div>\n",
       "<table border=\"1\" class=\"dataframe\">\n",
       "  <thead>\n",
       "    <tr style=\"text-align: right;\">\n",
       "      <th></th>\n",
       "      <th>people_id</th>\n",
       "      <th>km1</th>\n",
       "      <th>km2</th>\n",
       "    </tr>\n",
       "  </thead>\n",
       "  <tbody>\n",
       "    <tr>\n",
       "      <th>0</th>\n",
       "      <td>ppl_100</td>\n",
       "      <td>7.68439</td>\n",
       "      <td>7.7471</td>\n",
       "    </tr>\n",
       "    <tr>\n",
       "      <th>1</th>\n",
       "      <td>ppl_100002</td>\n",
       "      <td>7.51952</td>\n",
       "      <td>8.59639</td>\n",
       "    </tr>\n",
       "    <tr>\n",
       "      <th>2</th>\n",
       "      <td>ppl_100003</td>\n",
       "      <td>5.31346</td>\n",
       "      <td>10.6793</td>\n",
       "    </tr>\n",
       "    <tr>\n",
       "      <th>3</th>\n",
       "      <td>ppl_100004</td>\n",
       "      <td>5.17491</td>\n",
       "      <td>11.6547</td>\n",
       "    </tr>\n",
       "    <tr>\n",
       "      <th>4</th>\n",
       "      <td>ppl_100006</td>\n",
       "      <td>9.31906</td>\n",
       "      <td>4.93931</td>\n",
       "    </tr>\n",
       "  </tbody>\n",
       "</table>\n",
       "</div>"
      ],
      "text/plain": [
       "    people_id      km1      km2\n",
       "0     ppl_100  7.68439   7.7471\n",
       "1  ppl_100002  7.51952  8.59639\n",
       "2  ppl_100003  5.31346  10.6793\n",
       "3  ppl_100004  5.17491  11.6547\n",
       "4  ppl_100006  9.31906  4.93931"
      ]
     },
     "execution_count": 9,
     "metadata": {},
     "output_type": "execute_result"
    }
   ],
   "source": [
    "people.head()"
   ]
  },
  {
   "cell_type": "code",
   "execution_count": null,
   "metadata": {
    "collapsed": false
   },
   "outputs": [],
   "source": [
    "print(\"Process tables...\")\n",
    "for table in [train, test]:\n",
    "        table['year'] = table['date'].dt.year\n",
    "        table['month'] = table['date'].dt.month\n",
    "        table['day'] = table['date'].dt.day\n",
    "        table['julian'] = table.apply(date_to_julian_day, axis=1)\n",
    "        table.drop('date', axis=1, inplace=True)\n",
    "        table['activity_category'] = table['activity_category'].str.lstrip('type ').astype(np.int32)\n",
    "        for i in range(1, 11):\n",
    "            table['char_' + str(i)].fillna('type -999', inplace=True)\n",
    "            table['char_' + str(i)] = table['char_' + str(i)].str.lstrip('type ').astype(np.int32)\n",
    "print(\"Merge...\")\n",
    "train = pd.merge(train, people, how='left', on='people_id', left_index=True)\n",
    "train.fillna(-999, inplace=True)\n",
    "test = pd.merge(test, people, how='left', on='people_id', left_index=True)\n",
    "test.fillna(-999, inplace=True)"
   ]
  },
  {
   "cell_type": "markdown",
   "metadata": {},
   "source": [
    "### Select Features for Model"
   ]
  },
  {
   "cell_type": "code",
   "execution_count": 11,
   "metadata": {
    "collapsed": false
   },
   "outputs": [],
   "source": [
    "feature_cols = [col for col in train.columns if col not in ['people_id', 'activity_id','outcome', 'day', 'month', 'year']]\n",
    "target = 'outcome'"
   ]
  },
  {
   "cell_type": "code",
   "execution_count": 12,
   "metadata": {
    "collapsed": false
   },
   "outputs": [
    {
     "name": "stdout",
     "output_type": "stream",
     "text": [
      "Length of train:  2197291\n",
      "Length of test:  498687\n",
      "Features [14]: ['activity_category', 'char_1', 'char_10', 'char_2', 'char_3', 'char_4', 'char_5', 'char_6', 'char_7', 'char_8', 'char_9', 'julian', 'km1', 'km2']\n"
     ]
    }
   ],
   "source": [
    "print('Length of train: ', len(train))\n",
    "print('Length of test: ', len(test))\n",
    "print('Features [{}]: {}'.format(len(feature_cols), sorted(feature_cols)))\n"
   ]
  },
  {
   "cell_type": "markdown",
   "metadata": {},
   "source": [
    "### Function to Model ROC"
   ]
  },
  {
   "cell_type": "code",
   "execution_count": 13,
   "metadata": {
    "collapsed": true
   },
   "outputs": [],
   "source": [
    "def plot_roc(model, title):\n",
    "    model.fit(X_train, y_train)\n",
    "    actuals = y_train\n",
    "    predictions  = model.predict(X_train)\n",
    "    \n",
    "    false_positive_rate, true_positive_rate, thresholds = metrics.roc_curve(actuals, predictions)\n",
    "    roc_auc = metrics.auc(false_positive_rate, true_positive_rate)\n",
    "    \n",
    "    actuals_t = y_test\n",
    "    predictions_t  = model.predict(X_test)\n",
    "    false_positive_rate_t, true_positive_rate_t, thresholds_t = metrics.roc_curve(actuals_t, predictions_t)\n",
    "    roc_auc_t = metrics.auc(false_positive_rate_t, true_positive_rate_t)\n",
    "\n",
    "    # Plot of a ROC curve for a specific class\n",
    "    plt.figure()\n",
    "    plt.plot([0, 1], [0, 1], 'k--')\n",
    "    plt.plot(false_positive_rate, true_positive_rate, 'r', label='Training = %0.2f'% roc_auc)\n",
    "    plt.plot(false_positive_rate_t, true_positive_rate_t, 'g', label='Test = %0.2f'% roc_auc_t)\n",
    "    plt.fill(false_positive_rate, true_positive_rate, facecolor='blue', alpha=0.5, )\n",
    "    plt.xlim([0.0, 1.0])\n",
    "    plt.ylim([0.0, 1.05])\n",
    "    plt.xlabel('False Positive Rate', fontdict=font)\n",
    "    plt.ylabel('True Positive Rate', fontdict=font)\n",
    "    title = \"Redhat Dataset \" + title\n",
    "    plt.title(title, fontdict=font)\n",
    "    plt.legend(loc=\"lower right\", fontsize=20)\n",
    "    #plt.savefig(name, bbox_inches='tight')\n",
    "    plt.show()\n",
    "    return roc_auc "
   ]
  },
  {
   "cell_type": "code",
   "execution_count": 14,
   "metadata": {
    "collapsed": true
   },
   "outputs": [],
   "source": [
    "def plot_learning_curve(estimator, title, ylim=None):\n",
    "    \n",
    "    train_sizes=np.linspace(.1, 1.0, 5)\n",
    "    cv=None\n",
    "    \n",
    "    train_sizes, train_scores, test_scores = learning_curve(\n",
    "        estimator, X, y, cv=cv, n_jobs=-1, train_sizes=train_sizes)\n",
    "    train_scores_mean = np.mean(train_scores, axis=1)\n",
    "    train_scores_std = np.std(train_scores, axis=1)\n",
    "    test_scores_mean = np.mean(test_scores, axis=1)\n",
    "    test_scores_std = np.std(test_scores, axis=1)\n",
    "    \n",
    "    title = \"RedHat Dataset - \" + title\n",
    "    plt.title(title, y=1.08, fontdict=font)\n",
    "    if ylim is not None:\n",
    "        plt.ylim(*ylim)\n",
    "    plt.xlabel(\"Training examples\", fontdict=font)\n",
    "    plt.ylabel(\"Score\", fontdict=font)\n",
    "    plt.grid(True)\n",
    "    plt.fill_between(train_sizes, train_scores_mean - train_scores_std,\n",
    "                     train_scores_mean + train_scores_std, alpha=0.2,\n",
    "                     color=\"r\")\n",
    "    plt.fill_between(train_sizes, test_scores_mean - test_scores_std,\n",
    "                     test_scores_mean + test_scores_std, alpha=0.2, color=\"g\")\n",
    "    plt.plot(train_sizes, train_scores_mean, color=\"r\",\n",
    "             label=\"Training score\")\n",
    "    plt.plot(train_sizes, test_scores_mean, color=\"g\",\n",
    "             label=\"Cross-validation score\")\n",
    "    plt.legend(bbox_to_anchor=(1.1, 1.05))\n",
    "    plt.show()"
   ]
  },
  {
   "cell_type": "code",
   "execution_count": 15,
   "metadata": {
    "collapsed": true
   },
   "outputs": [],
   "source": [
    "def models(clf):\n",
    "    start = time.time()\n",
    "    print(clf)\n",
    "    print(\"\")\n",
    "    clf.fit(X_train, y_train)\n",
    "    # summarize the fit of the model\n",
    "    expected = y_test\n",
    "    predicted = clf.predict(X_test)\n",
    "    \n",
    "    # summarize the fit of the model\n",
    "    score = clf.score(X_test, y_test)\n",
    "    false_positive_rate_t, true_positive_rate_t, thresholds_t = metrics.roc_curve(expected, predicted)\n",
    "    roc_auc_t = metrics.auc(false_positive_rate_t, true_positive_rate_t)\n",
    "    \n",
    "    print(\"ROC_AUC score using test set: {}\\n\".format(str(roc_auc_t)))\n",
    "    print(\"=\"*66)\n",
    "    print(\"\")\n",
    "    # train the model with whole training dataset now\n",
    "    clf.fit(X, y)\n",
    "    # make predictions\n",
    "    expected = y\n",
    "    predicted = clf.predict(X)\n",
    "    # print confusion matrix\n",
    "    cm = metrics.confusion_matrix(expected, predicted)\n",
    "    target_names = ['bad', 'good']\n",
    "    fig, ax = plt.subplots()\n",
    "    sns_cm = sns.heatmap(cm, annot=True, fmt='', xticklabels=target_names, yticklabels=target_names , ax=ax)\n",
    "    title = \"RedHat Training Dataset - Confusion Matrix\"\n",
    "    ax.set_title(title, y=1.08, fontdict=font)\n",
    "    fig.show()\n",
    "    end = time.time()\n",
    "    total = end-start\n",
    "    minutes = total//60.0\n",
    "    seconds = total%60.0\n",
    "    print(\"Total running time for this model = {} seconds ({} minutes {} seconds)\".format(total, minutes, seconds))\n",
    "    print(\"\")\n",
    "    return"
   ]
  },
  {
   "cell_type": "code",
   "execution_count": 16,
   "metadata": {
    "collapsed": true
   },
   "outputs": [],
   "source": [
    "X = train[feature_cols]\n",
    "Xt = test[feature_cols]\n",
    "y = train['outcome']"
   ]
  },
  {
   "cell_type": "code",
   "execution_count": 17,
   "metadata": {
    "collapsed": false
   },
   "outputs": [
    {
     "name": "stdout",
     "output_type": "stream",
     "text": [
      "(1757832, 14)\n",
      "(1757832,)\n"
     ]
    }
   ],
   "source": [
    "X_train, X_test, y_train, y_test = train_test_split(X, y, test_size=0.2, random_state=42)\n",
    "print(X_train.shape)\n",
    "print(y_train.shape)"
   ]
  },
  {
   "cell_type": "markdown",
   "metadata": {},
   "source": [
    "### Random Forest & XgBoost Model"
   ]
  },
  {
   "cell_type": "code",
   "execution_count": 18,
   "metadata": {
    "collapsed": true
   },
   "outputs": [],
   "source": [
    "model = ensemble.RandomForestClassifier(bootstrap=True, class_weight=None, criterion='entropy',\n",
    "            max_depth=None, max_features='auto', max_leaf_nodes=None,\n",
    "            min_samples_leaf=1, min_samples_split=2,\n",
    "            min_weight_fraction_leaf=0.0, n_estimators=100, n_jobs=-1,\n",
    "            oob_score=False, random_state=None, verbose=0,\n",
    "            warm_start=False)"
   ]
  },
  {
   "cell_type": "code",
   "execution_count": 19,
   "metadata": {
    "collapsed": false
   },
   "outputs": [
    {
     "name": "stdout",
     "output_type": "stream",
     "text": [
      "RandomForestClassifier(bootstrap=True, class_weight=None, criterion='entropy',\n",
      "            max_depth=None, max_features='auto', max_leaf_nodes=None,\n",
      "            min_samples_leaf=1, min_samples_split=2,\n",
      "            min_weight_fraction_leaf=0.0, n_estimators=100, n_jobs=-1,\n",
      "            oob_score=False, random_state=None, verbose=0,\n",
      "            warm_start=False)\n",
      "\n",
      "ROC_AUC score using test set: 0.947923398623\n",
      "\n",
      "==================================================================\n",
      "\n",
      "Total running time for this model = 228.7801570892334 seconds (3.0 minutes 48.7801570892334 seconds)\n",
      "\n"
     ]
    },
    {
     "name": "stderr",
     "output_type": "stream",
     "text": [
      "/usr/local/lib/python3.4/site-packages/matplotlib/collections.py:590: FutureWarning: elementwise comparison failed; returning scalar instead, but in the future will perform elementwise comparison\n",
      "  if self._edgecolors == str('face'):\n",
      "/usr/local/lib/python3.4/site-packages/matplotlib/figure.py:387: UserWarning: matplotlib is currently using a non-GUI backend, so cannot show the figure\n",
      "  \"matplotlib is currently using a non-GUI backend, \"\n"
     ]
    },
    {
     "data": {
      "image/png": "[encoded data removed]",
      "text/plain": [
       "<matplotlib.figure.Figure at 0x10fee73c8>"
      ]
     },
     "metadata": {},
     "output_type": "display_data"
    }
   ],
   "source": [
    "models(model)"
   ]
  },
  {
   "cell_type": "code",
   "execution_count": 20,
   "metadata": {
    "collapsed": false
   },
   "outputs": [
    {
     "name": "stdout",
     "output_type": "stream",
     "text": [
      "[ 0.84920707  0.81838064  0.85180838  0.83179176  0.80447376]\n",
      "\n",
      "0.831132321373\n"
     ]
    }
   ],
   "source": [
    "scores = cross_validation.cross_val_score(model, X, y, n_jobs=-1, scoring=\"roc_auc\", cv=5)\n",
    "print(scores)\n",
    "print(\"\")\n",
    "print(sum(scores)/len(scores))"
   ]
  },
  {
   "cell_type": "code",
   "execution_count": 21,
   "metadata": {
    "collapsed": false
   },
   "outputs": [
    {
     "data": {
      "text/plain": [
       "RandomForestClassifier(bootstrap=True, class_weight=None, criterion='entropy',\n",
       "            max_depth=None, max_features='auto', max_leaf_nodes=None,\n",
       "            min_samples_leaf=1, min_samples_split=2,\n",
       "            min_weight_fraction_leaf=0.0, n_estimators=100, n_jobs=-1,\n",
       "            oob_score=False, random_state=None, verbose=0,\n",
       "            warm_start=False)"
      ]
     },
     "execution_count": 21,
     "metadata": {},
     "output_type": "execute_result"
    }
   ],
   "source": [
    "model.fit(X,y)"
   ]
  },
  {
   "cell_type": "code",
   "execution_count": 23,
   "metadata": {
    "collapsed": false
   },
   "outputs": [
    {
     "name": "stdout",
     "output_type": "stream",
     "text": [
      "Features sorted by their score:\n",
      "[(0.42509999999999998, 'km2'), (0.375, 'km1'), (0.1075, 'julian'), (0.064399999999999999, 'char_10'), (0.0141, 'activity_category'), (0.0020999999999999999, 'char_9'), (0.0020999999999999999, 'char_1'), (0.002, 'char_2'), (0.0016999999999999999, 'char_3'), (0.0015, 'char_8'), (0.0014, 'char_7'), (0.0011999999999999999, 'char_5'), (0.001, 'char_6'), (0.00089999999999999998, 'char_4')]\n",
      "\n",
      "['km2', 'km1', 'julian', 'char_10', 'activity_category', 'char_9', 'char_1', 'char_2', 'char_3', 'char_8']\n"
     ]
    }
   ],
   "source": [
    "print(\"Features sorted by their score:\")\n",
    "print(sorted(zip(map(lambda x: round(x, 4), model.feature_importances_), feature_cols), \n",
    "             reverse=True))\n",
    "ft = (sorted(zip(map(lambda x: round(x, 4), model.feature_importances_), feature_cols), \n",
    "             reverse=True))[:10]\n",
    "print(\"\")\n",
    "important_features = [x[1] for x in ft]\n",
    "print(important_features)"
   ]
  },
  {
   "cell_type": "code",
   "execution_count": 31,
   "metadata": {
    "collapsed": false
   },
   "outputs": [],
   "source": [
    "important_features = ['km2', 'km1', 'julian', 'char_10']\n",
    "X = train[important_features]\n",
    "Xt = test[important_features]\n",
    "y = train['outcome']"
   ]
  },
  {
   "cell_type": "code",
   "execution_count": 32,
   "metadata": {
    "collapsed": false
   },
   "outputs": [
    {
     "name": "stdout",
     "output_type": "stream",
     "text": [
      "(1757832, 4)\n",
      "(1757832,)\n"
     ]
    }
   ],
   "source": [
    "X_train, X_test, y_train, y_test = train_test_split(X, y, test_size=0.2, random_state=42)\n",
    "print(X_train.shape)\n",
    "print(y_train.shape)"
   ]
  },
  {
   "cell_type": "code",
   "execution_count": 30,
   "metadata": {
    "collapsed": false
   },
   "outputs": [
    {
     "name": "stdout",
     "output_type": "stream",
     "text": [
      "[ 0.74032754  0.72294499  0.75984826  0.73308125  0.70679807]\n",
      "\n",
      "0.732600020196\n"
     ]
    }
   ],
   "source": [
    "scores = cross_validation.cross_val_score(model, X, y, n_jobs=-1, scoring=\"roc_auc\", cv=5)\n",
    "print(scores)\n",
    "print(\"\")\n",
    "print(sum(scores)/len(scores))"
   ]
  },
  {
   "cell_type": "code",
   "execution_count": null,
   "metadata": {
    "collapsed": true
   },
   "outputs": [],
   "source": [
    "X_train1, X_test1, y_train1, y_test1 = train_test_split(X, y, test_size=0.05, random_state=42)\n",
    "print(X_test1.shape)\n",
    "print(y_test1.shape)"
   ]
  },
  {
   "cell_type": "code",
   "execution_count": 16,
   "metadata": {
    "collapsed": true
   },
   "outputs": [],
   "source": [
    "model = ensemble.RandomForestClassifier(bootstrap=True, class_weight=None, criterion='entropy',\n",
    "            max_depth=None, max_features='auto', max_leaf_nodes=None,\n",
    "            min_samples_leaf=3, min_samples_split=6,\n",
    "            min_weight_fraction_leaf=0.0, n_estimators=100, n_jobs=-1,\n",
    "            oob_score=False, random_state=0, verbose=0,\n",
    "            warm_start=False)\n",
    "model2 = xgb.XGBClassifier(base_score=0.5, colsample_bylevel=1, colsample_bytree=0.9,\n",
    "       gamma=0, learning_rate=0.3, max_delta_step=0, max_depth=6,\n",
    "       min_child_weight=2, missing=None, n_estimators=1000, nthread=-1,\n",
    "       objective='binary:logistic', reg_alpha=0, reg_lambda=1,\n",
    "       scale_pos_weight=1, seed=0, silent=True, subsample=0.8)"
   ]
  },
  {
   "cell_type": "code",
   "execution_count": 17,
   "metadata": {
    "collapsed": false
   },
   "outputs": [
    {
     "data": {
      "text/plain": [
       "RandomForestClassifier(bootstrap=True, class_weight=None, criterion='entropy',\n",
       "            max_depth=None, max_features='auto', max_leaf_nodes=None,\n",
       "            min_samples_leaf=3, min_samples_split=6,\n",
       "            min_weight_fraction_leaf=0.0, n_estimators=100, n_jobs=-1,\n",
       "            oob_score=False, random_state=0, verbose=0, warm_start=False)"
      ]
     },
     "execution_count": 17,
     "metadata": {},
     "output_type": "execute_result"
    }
   ],
   "source": [
    "model.fit(X,y)"
   ]
  },
  {
   "cell_type": "code",
   "execution_count": 18,
   "metadata": {
    "collapsed": false
   },
   "outputs": [
    {
     "data": {
      "text/plain": [
       "XGBClassifier(base_score=0.5, colsample_bylevel=1, colsample_bytree=0.9,\n",
       "       gamma=0, learning_rate=0.3, max_delta_step=0, max_depth=6,\n",
       "       min_child_weight=2, missing=None, n_estimators=1000, nthread=-1,\n",
       "       objective='binary:logistic', reg_alpha=0, reg_lambda=1,\n",
       "       scale_pos_weight=1, seed=0, silent=True, subsample=0.8)"
      ]
     },
     "execution_count": 18,
     "metadata": {},
     "output_type": "execute_result"
    }
   ],
   "source": [
    "model2.fit(X,y)"
   ]
  },
  {
   "cell_type": "code",
   "execution_count": 19,
   "metadata": {
    "collapsed": true
   },
   "outputs": [],
   "source": [
    "model_vc = ensemble.VotingClassifier(estimators= [('rf', model), ('xgb', model2)], voting='hard')"
   ]
  },
  {
   "cell_type": "code",
   "execution_count": 20,
   "metadata": {
    "collapsed": false
   },
   "outputs": [
    {
     "data": {
      "text/plain": [
       "VotingClassifier(estimators=[('rf', RandomForestClassifier(bootstrap=True, class_weight=None, criterion='entropy',\n",
       "            max_depth=None, max_features='auto', max_leaf_nodes=None,\n",
       "            min_samples_leaf=3, min_samples_split=6,\n",
       "            min_weight_fraction_leaf=0.0, n_estimators=100, n_jobs=-1,\n",
       "        ...gistic', reg_alpha=0, reg_lambda=1,\n",
       "       scale_pos_weight=1, seed=0, silent=True, subsample=0.8))],\n",
       "         voting='hard', weights=None)"
      ]
     },
     "execution_count": 20,
     "metadata": {},
     "output_type": "execute_result"
    }
   ],
   "source": [
    "model_vc.fit(X,y)"
   ]
  },
  {
   "cell_type": "code",
   "execution_count": 21,
   "metadata": {
    "collapsed": false
   },
   "outputs": [
    {
     "data": {
      "image/png": "[encoded data removed]",
      "text/plain": [
       "<matplotlib.figure.Figure at 0x112d43d30>"
      ]
     },
     "metadata": {},
     "output_type": "display_data"
    },
    {
     "data": {
      "text/plain": [
       "0.99462510032795048"
      ]
     },
     "execution_count": 21,
     "metadata": {},
     "output_type": "execute_result"
    }
   ],
   "source": [
    "plot_roc(model_vc, \"VC - Hard\")"
   ]
  },
  {
   "cell_type": "code",
   "execution_count": 22,
   "metadata": {
    "collapsed": true
   },
   "outputs": [],
   "source": [
    "y_predict = model.predict_proba(Xt)"
   ]
  },
  {
   "cell_type": "code",
   "execution_count": 23,
   "metadata": {
    "collapsed": true
   },
   "outputs": [],
   "source": [
    "yPred = y_predict[:,1]"
   ]
  },
  {
   "cell_type": "code",
   "execution_count": 24,
   "metadata": {
    "collapsed": true
   },
   "outputs": [],
   "source": [
    "current_time = datetime.datetime.now()"
   ]
  },
  {
   "cell_type": "code",
   "execution_count": 25,
   "metadata": {
    "collapsed": true
   },
   "outputs": [],
   "source": [
    "sub = pd.DataFrame()\n",
    "sub['activity_id'] = test['activity_id']\n",
    "sub['outcome'] = yPred.tolist()\n",
    "sub.to_csv('submission_vc_hard_' + str(current_time.strftime(\"%Y-%m-%d-%H-%M\")) + '.csv', index=False)"
   ]
  }
 ],
 "metadata": {
  "kernelspec": {
   "display_name": "Python 3",
   "language": "python",
   "name": "python3"
  },
  "language_info": {
   "codemirror_mode": {
    "name": "ipython",
    "version": 3
   },
   "file_extension": ".py",
   "mimetype": "text/x-python",
   "name": "python",
   "nbconvert_exporter": "python",
   "pygments_lexer": "ipython3",
   "version": "3.4.3"
  }
 },
 "nbformat": 4,
 "nbformat_minor": 0
}
