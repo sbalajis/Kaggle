{
 "cells": [
  {
   "cell_type": "code",
   "execution_count": 1,
   "metadata": {
    "collapsed": true
   },
   "outputs": [],
   "source": [
    "%matplotlib inline"
   ]
  },
  {
   "cell_type": "code",
   "execution_count": 15,
   "metadata": {
    "collapsed": false
   },
   "outputs": [],
   "source": [
    "import datetime\n",
    "import numpy as np \n",
    "import pandas as pd \n",
    "from sklearn.cross_validation import KFold\n",
    "from sklearn.cross_validation import train_test_split\n",
    "from sklearn.metrics import roc_auc_score\n",
    "from sklearn.learning_curve import learning_curve\n",
    "from sklearn import ensemble\n",
    "from sklearn import linear_model\n",
    "from sklearn import metrics\n",
    "from sklearn import svm\n",
    "from sklearn import preprocessing\n",
    "from sklearn import cross_validation\n",
    "import xgboost as xgb\n",
    "import matplotlib.pyplot as plt\n",
    "import prettyplotlib as ppl\n",
    "import brewer2mpl\n",
    "import random\n",
    "from operator import itemgetter\n",
    "import time\n",
    "import copy"
   ]
  },
  {
   "cell_type": "code",
   "execution_count": 3,
   "metadata": {
    "collapsed": true
   },
   "outputs": [],
   "source": [
    "set2 = brewer2mpl.get_map('Set2', 'qualitative', 8).mpl_colors\n",
    "\n",
    "font = {'family' : 'serif',\n",
    "        'color'  : 'darkred',\n",
    "        'weight' : 'bold',\n",
    "        'size'   : 16,\n",
    "        }\n",
    "plt.rc('font',family='serif')\n",
    "plt.rc('font', size=16)\n",
    "plt.rc('font', weight='bold')\n",
    "plt.style.use('fivethirtyeight')\n",
    "    \n",
    "# Get current size\n",
    "fig_size = plt.rcParams[\"figure.figsize\"]\n",
    " \n",
    "# Set figure width to 6 and height to 6\n",
    "fig_size[0] = 6\n",
    "fig_size[1] = 6\n",
    "plt.rcParams[\"figure.figsize\"] = fig_size"
   ]
  },
  {
   "cell_type": "markdown",
   "metadata": {},
   "source": [
    "### Load Data"
   ]
  },
  {
   "cell_type": "code",
   "execution_count": 4,
   "metadata": {
    "collapsed": true
   },
   "outputs": [],
   "source": [
    "train = pd.read_csv('data/act_train.csv', dtype={'people_id': np.str,\n",
    "                               'activity_id': np.str,\n",
    "                               'outcome': np.int8}, parse_dates=['date'])\n",
    "test = pd.read_csv('data/act_test.csv', dtype={'people_id': np.str,\n",
    "                              'activity_id': np.str}, parse_dates=['date'])\n",
    "people = pd.read_csv('data/people.csv', dtype={'people_id': np.str,\n",
    "                              'activity_id': np.str,\n",
    "                              'char_38': np.int32},parse_dates=['date'])"
   ]
  },
  {
   "cell_type": "markdown",
   "metadata": {
    "collapsed": false
   },
   "source": [
    "### Cleanup Data - Date, FillNaN etc"
   ]
  },
  {
   "cell_type": "code",
   "execution_count": 5,
   "metadata": {
    "collapsed": true
   },
   "outputs": [],
   "source": [
    "def date_to_julian_day(row):\n",
    "    \"\"\"Returns the Julian day number of a date.\"\"\"\n",
    "    date_format = '%m/%d%Y'\n",
    "    recorded_date = row['date']\n",
    "    a = (14 - recorded_date.month)//12\n",
    "    y = recorded_date.year + 4800 - a\n",
    "    m = recorded_date.month + 12*a - 3\n",
    "    return (recorded_date.day + ((153*m + 2)//5) + 365*y + y//4 - y//100 + y//400 - 320450)**0.5"
   ]
  },
  {
   "cell_type": "code",
   "execution_count": 6,
   "metadata": {
    "collapsed": false
   },
   "outputs": [
    {
     "name": "stdout",
     "output_type": "stream",
     "text": [
      "Process tables...\n",
      "Merge...\n"
     ]
    }
   ],
   "source": [
    "print(\"Process tables...\")\n",
    "for table in [train, test]:\n",
    "        table['year'] = table['date'].dt.year\n",
    "        table['month'] = table['date'].dt.month\n",
    "        table['day'] = table['date'].dt.day\n",
    "        table['day_of_week'] = table['date'].dt.dayofweek\n",
    "        table['julian'] = table.apply(date_to_julian_day, axis=1)\n",
    "        table.drop('date', axis=1, inplace=True)\n",
    "        table['activity_category'] = table['activity_category'].str.lstrip('type ').astype(np.int32)\n",
    "        for i in range(1, 11):\n",
    "            table['char_' + str(i)].fillna('type -999', inplace=True)\n",
    "            table['char_' + str(i)] = table['char_' + str(i)].str.lstrip('type ').astype(np.int32)\n",
    "people['year'] = people['date'].dt.year\n",
    "people['month'] = people['date'].dt.month\n",
    "people['day'] = people['date'].dt.day\n",
    "people['day_of_week_people'] = people['date'].dt.dayofweek\n",
    "people['julian'] = people.apply(date_to_julian_day, axis=1)\n",
    "people.drop('date', axis=1, inplace=True)\n",
    "people['group_1'] = people['group_1'].str.lstrip('group ').astype(np.int32)\n",
    "for i in range(1, 10):\n",
    "        people['char_' + str(i)] = people['char_' + str(i)].str.lstrip('type ').astype(np.int32)\n",
    "for i in range(10, 38):\n",
    "        people['char_' + str(i)] = people['char_' + str(i)].astype(np.int32)\n",
    "\n",
    "print(\"Merge...\")\n",
    "train = pd.merge(train, people, how='left', on='people_id', left_index=True)\n",
    "train.fillna(-999, inplace=True)\n",
    "test = pd.merge(test, people, how='left', on='people_id', left_index=True)\n",
    "test.fillna(-999, inplace=True)"
   ]
  },
  {
   "cell_type": "markdown",
   "metadata": {},
   "source": [
    "### Select Features for Model"
   ]
  },
  {
   "cell_type": "code",
   "execution_count": 7,
   "metadata": {
    "collapsed": false
   },
   "outputs": [],
   "source": [
    "feature_cols = [col for col in train.columns if col not in ['people_id', 'activity_id','outcome']]\n",
    "target = 'outcome'"
   ]
  },
  {
   "cell_type": "code",
   "execution_count": 8,
   "metadata": {
    "collapsed": false
   },
   "outputs": [
    {
     "name": "stdout",
     "output_type": "stream",
     "text": [
      "Length of train:  2197291\n",
      "Length of test:  498687\n",
      "Features [60]: ['activity_category', 'char_10_x', 'char_10_y', 'char_11', 'char_12', 'char_13', 'char_14', 'char_15', 'char_16', 'char_17', 'char_18', 'char_19', 'char_1_x', 'char_1_y', 'char_20', 'char_21', 'char_22', 'char_23', 'char_24', 'char_25', 'char_26', 'char_27', 'char_28', 'char_29', 'char_2_x', 'char_2_y', 'char_30', 'char_31', 'char_32', 'char_33', 'char_34', 'char_35', 'char_36', 'char_37', 'char_38', 'char_3_x', 'char_3_y', 'char_4_x', 'char_4_y', 'char_5_x', 'char_5_y', 'char_6_x', 'char_6_y', 'char_7_x', 'char_7_y', 'char_8_x', 'char_8_y', 'char_9_x', 'char_9_y', 'day_of_week', 'day_of_week_people', 'day_x', 'day_y', 'group_1', 'julian_x', 'julian_y', 'month_x', 'month_y', 'year_x', 'year_y']\n"
     ]
    }
   ],
   "source": [
    "print('Length of train: ', len(train))\n",
    "print('Length of test: ', len(test))\n",
    "print('Features [{}]: {}'.format(len(feature_cols), sorted(feature_cols)))\n"
   ]
  },
  {
   "cell_type": "markdown",
   "metadata": {},
   "source": [
    "### Function to Model ROC"
   ]
  },
  {
   "cell_type": "code",
   "execution_count": 9,
   "metadata": {
    "collapsed": true
   },
   "outputs": [],
   "source": [
    "def plot_roc(model, title):\n",
    "    model.fit(X_train, y_train)\n",
    "    actuals = y_train\n",
    "    predictions  = model.predict(X_train)\n",
    "    \n",
    "    false_positive_rate, true_positive_rate, thresholds = metrics.roc_curve(actuals, predictions)\n",
    "    roc_auc = metrics.auc(false_positive_rate, true_positive_rate)\n",
    "    \n",
    "    actuals_t = y_test\n",
    "    predictions_t  = model.predict(X_test)\n",
    "    false_positive_rate_t, true_positive_rate_t, thresholds_t = metrics.roc_curve(actuals_t, predictions_t)\n",
    "    roc_auc_t = metrics.auc(false_positive_rate_t, true_positive_rate_t)\n",
    "\n",
    "    # Plot of a ROC curve for a specific class\n",
    "    plt.figure()\n",
    "    plt.plot([0, 1], [0, 1], 'k--')\n",
    "    plt.plot(false_positive_rate, true_positive_rate, 'r', label='Training = %0.2f'% roc_auc)\n",
    "    plt.plot(false_positive_rate_t, true_positive_rate_t, 'g', label='Test = %0.2f'% roc_auc_t)\n",
    "    plt.fill(false_positive_rate, true_positive_rate, facecolor='blue', alpha=0.5, )\n",
    "    plt.xlim([0.0, 1.0])\n",
    "    plt.ylim([0.0, 1.05])\n",
    "    plt.xlabel('False Positive Rate', fontdict=font)\n",
    "    plt.ylabel('True Positive Rate', fontdict=font)\n",
    "    title = \"Redhat Dataset \" + title\n",
    "    plt.title(title, fontdict=font)\n",
    "    plt.legend(loc=\"lower right\", fontsize=20)\n",
    "    #plt.savefig(name, bbox_inches='tight')\n",
    "    plt.show()\n",
    "    return roc_auc "
   ]
  },
  {
   "cell_type": "code",
   "execution_count": 10,
   "metadata": {
    "collapsed": true
   },
   "outputs": [],
   "source": [
    "def plot_learning_curve(estimator, title, ylim=None):\n",
    "    \n",
    "    train_sizes=np.linspace(.1, 1.0, 5)\n",
    "    cv=None\n",
    "    \n",
    "    train_sizes, train_scores, test_scores = learning_curve(\n",
    "        estimator, X, y, cv=cv, n_jobs=-1, train_sizes=train_sizes)\n",
    "    train_scores_mean = np.mean(train_scores, axis=1)\n",
    "    train_scores_std = np.std(train_scores, axis=1)\n",
    "    test_scores_mean = np.mean(test_scores, axis=1)\n",
    "    test_scores_std = np.std(test_scores, axis=1)\n",
    "    \n",
    "    title = \"RedHat Dataset - \" + title\n",
    "    plt.title(title, y=1.08, fontdict=font)\n",
    "    if ylim is not None:\n",
    "        plt.ylim(*ylim)\n",
    "    plt.xlabel(\"Training examples\", fontdict=font)\n",
    "    plt.ylabel(\"Score\", fontdict=font)\n",
    "    plt.grid(True)\n",
    "    plt.fill_between(train_sizes, train_scores_mean - train_scores_std,\n",
    "                     train_scores_mean + train_scores_std, alpha=0.2,\n",
    "                     color=\"r\")\n",
    "    plt.fill_between(train_sizes, test_scores_mean - test_scores_std,\n",
    "                     test_scores_mean + test_scores_std, alpha=0.2, color=\"g\")\n",
    "    plt.plot(train_sizes, train_scores_mean, color=\"r\",\n",
    "             label=\"Training score\")\n",
    "    plt.plot(train_sizes, test_scores_mean, color=\"g\",\n",
    "             label=\"Cross-validation score\")\n",
    "    plt.legend(bbox_to_anchor=(1.1, 1.05))\n",
    "    plt.show()"
   ]
  },
  {
   "cell_type": "markdown",
   "metadata": {},
   "source": [
    "### Random Forest Model"
   ]
  },
  {
   "cell_type": "code",
   "execution_count": 45,
   "metadata": {
    "collapsed": false
   },
   "outputs": [],
   "source": [
    "model = ensemble.RandomForestClassifier(bootstrap=True, class_weight=None, criterion='gini',\n",
    "            max_depth=None, max_features='auto', max_leaf_nodes=None,\n",
    "            min_samples_leaf=1, min_samples_split=2,\n",
    "            min_weight_fraction_leaf=0.0, n_estimators=10, n_jobs=-1,\n",
    "            oob_score=False, random_state=None, verbose=0,\n",
    "            warm_start=False)"
   ]
  },
  {
   "cell_type": "code",
   "execution_count": 46,
   "metadata": {
    "collapsed": false
   },
   "outputs": [
    {
     "name": "stdout",
     "output_type": "stream",
     "text": [
      "RandomForestClassifier(bootstrap=True, class_weight=None, criterion='gini',\n",
      "            max_depth=None, max_features='auto', max_leaf_nodes=None,\n",
      "            min_samples_leaf=1, min_samples_split=2,\n",
      "            min_weight_fraction_leaf=0.0, n_estimators=10, n_jobs=-1,\n",
      "            oob_score=False, random_state=None, verbose=0,\n",
      "            warm_start=False)\n"
     ]
    }
   ],
   "source": [
    "print(model)"
   ]
  },
  {
   "cell_type": "code",
   "execution_count": 47,
   "metadata": {
    "collapsed": true
   },
   "outputs": [],
   "source": [
    "X = train[feature_cols]\n",
    "Xt = test[feature_cols]\n",
    "y = train['outcome']"
   ]
  },
  {
   "cell_type": "markdown",
   "metadata": {},
   "source": [
    "### Scale Data"
   ]
  },
  {
   "cell_type": "code",
   "execution_count": 48,
   "metadata": {
    "collapsed": true
   },
   "outputs": [],
   "source": [
    "scaler = preprocessing.StandardScaler()\n",
    "X = scaler.fit_transform(X)\n",
    "Xt = scaler.transform(Xt)"
   ]
  },
  {
   "cell_type": "code",
   "execution_count": 39,
   "metadata": {
    "collapsed": false
   },
   "outputs": [
    {
     "name": "stdout",
     "output_type": "stream",
     "text": [
      "[ 0.94718254  0.92755234  0.94751263  0.92000344  0.93052383]\n",
      "0.9345549546654437\n"
     ]
    }
   ],
   "source": [
    "scores = cross_validation.cross_val_score(model, X, y, n_jobs=-1, scoring = 'roc_auc', cv=5)\n",
    "print(scores)\n",
    "print(float(sum(scores))/len(scores))"
   ]
  },
  {
   "cell_type": "code",
   "execution_count": 106,
   "metadata": {
    "collapsed": false
   },
   "outputs": [
    {
     "name": "stdout",
     "output_type": "stream",
     "text": [
      "(1757832, 60)\n",
      "(1757832,)\n"
     ]
    }
   ],
   "source": [
    "X_train, X_test, y_train, y_test = train_test_split(X, y, test_size=0.2, random_state=42)\n",
    "print(X_train.shape)\n",
    "print(y_train.shape)"
   ]
  },
  {
   "cell_type": "code",
   "execution_count": 107,
   "metadata": {
    "collapsed": false
   },
   "outputs": [
    {
     "data": {
      "image/png": "[encoded data removed]",
      "text/plain": [
       "<matplotlib.figure.Figure at 0x7f40f70a2f60>"
      ]
     },
     "metadata": {},
     "output_type": "display_data"
    },
    {
     "data": {
      "text/plain": [
       "0.9997785157819139"
      ]
     },
     "execution_count": 107,
     "metadata": {},
     "output_type": "execute_result"
    }
   ],
   "source": [
    "plot_roc(model, \"Random Forest\")"
   ]
  },
  {
   "cell_type": "code",
   "execution_count": 49,
   "metadata": {
    "collapsed": false
   },
   "outputs": [
    {
     "data": {
      "text/plain": [
       "RandomForestClassifier(bootstrap=True, class_weight=None, criterion='gini',\n",
       "            max_depth=None, max_features='auto', max_leaf_nodes=None,\n",
       "            min_samples_leaf=1, min_samples_split=2,\n",
       "            min_weight_fraction_leaf=0.0, n_estimators=10, n_jobs=-1,\n",
       "            oob_score=False, random_state=None, verbose=0,\n",
       "            warm_start=False)"
      ]
     },
     "execution_count": 49,
     "metadata": {},
     "output_type": "execute_result"
    }
   ],
   "source": [
    "model.fit(X,y)"
   ]
  },
  {
   "cell_type": "markdown",
   "metadata": {},
   "source": [
    "### Train Using Top Ten Important Features"
   ]
  },
  {
   "cell_type": "code",
   "execution_count": 50,
   "metadata": {
    "collapsed": false
   },
   "outputs": [
    {
     "name": "stdout",
     "output_type": "stream",
     "text": [
      "Features sorted by their score:\n",
      "[(0.1895, 'char_38'), (0.1444, 'char_2_y'), (0.13170000000000001, 'group_1'), (0.043400000000000001, 'char_7_y'), (0.031600000000000003, 'julian_y'), (0.030599999999999999, 'day_y'), (0.027699999999999999, 'julian_x'), (0.025000000000000001, 'char_8_y'), (0.0246, 'char_6_y'), (0.021299999999999999, 'month_y'), (0.019800000000000002, 'char_3_y'), (0.0195, 'char_34'), (0.019400000000000001, 'char_1_y'), (0.017899999999999999, 'char_5_y'), (0.017100000000000001, 'char_4_y'), (0.016899999999999998, 'month_x'), (0.0166, 'day_of_week_people'), (0.0154, 'char_9_y'), (0.015100000000000001, 'char_13'), (0.012200000000000001, 'char_36'), (0.0114, 'day_x'), (0.010999999999999999, 'char_10_x'), (0.0103, 'char_17'), (0.010200000000000001, 'char_22'), (0.0101, 'char_37'), (0.0094999999999999998, 'char_20'), (0.0094000000000000004, 'char_21'), (0.0071000000000000004, 'year_y'), (0.0060000000000000001, 'char_31'), (0.0054000000000000003, 'day_of_week'), (0.0051999999999999998, 'year_x'), (0.0048999999999999998, 'char_10_y'), (0.0045999999999999999, 'char_25'), (0.0044000000000000003, 'activity_category'), (0.0032000000000000002, 'char_35'), (0.0030999999999999999, 'char_27'), (0.0028999999999999998, 'char_32'), (0.0028999999999999998, 'char_29'), (0.0028999999999999998, 'char_14'), (0.0028999999999999998, 'char_11'), (0.0028, 'char_18'), (0.0027000000000000001, 'char_23'), (0.0025999999999999999, 'char_33'), (0.0025999999999999999, 'char_12'), (0.0025000000000000001, 'char_30'), (0.0025000000000000001, 'char_15'), (0.0023999999999999998, 'char_26'), (0.0022000000000000001, 'char_19'), (0.0020999999999999999, 'char_16'), (0.002, 'char_24'), (0.0019, 'char_28'), (0.00089999999999999998, 'char_9_x'), (0.00080000000000000004, 'char_2_x'), (0.00080000000000000004, 'char_1_x'), (0.00069999999999999999, 'char_8_x'), (0.00069999999999999999, 'char_7_x'), (0.00069999999999999999, 'char_3_x'), (0.00059999999999999995, 'char_5_x'), (0.00050000000000000001, 'char_6_x'), (0.00050000000000000001, 'char_4_x')]\n",
      "\n",
      "['char_38', 'char_2_y', 'group_1', 'char_7_y', 'julian_y', 'day_y', 'julian_x', 'char_8_y', 'char_6_y', 'month_y', 'char_3_y', 'char_34', 'char_1_y', 'char_5_y', 'char_4_y', 'month_x', 'day_of_week_people', 'char_9_y', 'char_13', 'char_36', 'day_x']\n"
     ]
    }
   ],
   "source": [
    "print(\"Features sorted by their score:\")\n",
    "print(sorted(zip(map(lambda x: round(x, 4), model.feature_importances_), feature_cols), \n",
    "             reverse=True))\n",
    "ft = (sorted(zip(map(lambda x: round(x, 4), model.feature_importances_), feature_cols), \n",
    "             reverse=True))\n",
    "ft = ft[:21]\n",
    "print(\"\")\n",
    "important_features = [x[1] for x in ft]\n",
    "print(important_features)"
   ]
  },
  {
   "cell_type": "code",
   "execution_count": 51,
   "metadata": {
    "collapsed": true
   },
   "outputs": [],
   "source": [
    "X = train[important_features]\n",
    "Xt = test[important_features]\n",
    "y = train['outcome']"
   ]
  },
  {
   "cell_type": "code",
   "execution_count": 55,
   "metadata": {
    "collapsed": false
   },
   "outputs": [],
   "source": [
    "lr_features = ['group_1', 'char_2_x', 'char_38']\n",
    "X = train[lr_features]\n",
    "Xt = test[lr_features]\n",
    "y = train['outcome']"
   ]
  },
  {
   "cell_type": "code",
   "execution_count": 56,
   "metadata": {
    "collapsed": true
   },
   "outputs": [],
   "source": [
    "scaler = preprocessing.StandardScaler()\n",
    "X = scaler.fit_transform(X)\n",
    "Xt = scaler.transform(Xt)"
   ]
  },
  {
   "cell_type": "code",
   "execution_count": 58,
   "metadata": {
    "collapsed": true
   },
   "outputs": [],
   "source": [
    "model = linear_model.LogisticRegression(C=100000.0)"
   ]
  },
  {
   "cell_type": "code",
   "execution_count": 59,
   "metadata": {
    "collapsed": false
   },
   "outputs": [
    {
     "name": "stdout",
     "output_type": "stream",
     "text": [
      "[ 0.89211097  0.87567118  0.89540698  0.9002649   0.88611506]\n",
      "0.8899138181403877\n"
     ]
    }
   ],
   "source": [
    "scores = cross_validation.cross_val_score(model, X, y, n_jobs=-1, scoring = 'roc_auc', cv=5)\n",
    "print(scores)\n",
    "print(float(sum(scores))/len(scores))"
   ]
  },
  {
   "cell_type": "markdown",
   "metadata": {},
   "source": [
    "### Split Train and Validation Set"
   ]
  },
  {
   "cell_type": "code",
   "execution_count": 119,
   "metadata": {
    "collapsed": false
   },
   "outputs": [
    {
     "name": "stdout",
     "output_type": "stream",
     "text": [
      "(1757832, 13)\n",
      "(1757832,)\n"
     ]
    }
   ],
   "source": [
    "X_train, X_test, y_train, y_test = train_test_split(X, y, test_size=0.2, random_state=42)\n",
    "print(X_train.shape)\n",
    "print(y_train.shape)"
   ]
  },
  {
   "cell_type": "raw",
   "metadata": {},
   "source": [
    "model = xgb.XGBClassifier(base_score=0.5, colsample_bylevel=1, colsample_bytree=1,\n",
    "       gamma=0, learning_rate=0.1, max_delta_step=0, max_depth=5,\n",
    "       min_child_weight=1, missing=None, n_estimators=100, nthread=-1,\n",
    "       objective='binary:logistic', reg_alpha=0, reg_lambda=1,\n",
    "       scale_pos_weight=1, seed=0, silent=True, subsample=1)"
   ]
  },
  {
   "cell_type": "code",
   "execution_count": 120,
   "metadata": {
    "collapsed": true
   },
   "outputs": [],
   "source": [
    "model = svm.SVC()"
   ]
  },
  {
   "cell_type": "code",
   "execution_count": null,
   "metadata": {
    "collapsed": false
   },
   "outputs": [],
   "source": [
    "plot_roc(model, \"XgBoost\")"
   ]
  },
  {
   "cell_type": "code",
   "execution_count": null,
   "metadata": {
    "collapsed": false
   },
   "outputs": [],
   "source": [
    "print(model)"
   ]
  },
  {
   "cell_type": "code",
   "execution_count": 61,
   "metadata": {
    "collapsed": false
   },
   "outputs": [],
   "source": [
    "model = ensemble.RandomForestClassifier(bootstrap=True, class_weight=None, criterion='entropy',\n",
    "            max_depth=None, max_features='auto', max_leaf_nodes=None,\n",
    "            min_samples_leaf=1, min_samples_split=6,\n",
    "            min_weight_fraction_leaf=0.0, n_estimators=10, n_jobs=-1,\n",
    "            oob_score=False, random_state=0, verbose=0,\n",
    "            warm_start=False)"
   ]
  },
  {
   "cell_type": "code",
   "execution_count": 62,
   "metadata": {
    "collapsed": false
   },
   "outputs": [
    {
     "data": {
      "image/png": "[encoded data removed]",
      "text/plain": [
       "<matplotlib.figure.Figure at 0x7f4145b1db70>"
      ]
     },
     "metadata": {},
     "output_type": "display_data"
    },
    {
     "data": {
      "text/plain": [
       "0.99905806752466686"
      ]
     },
     "execution_count": 62,
     "metadata": {},
     "output_type": "execute_result"
    }
   ],
   "source": [
    "plot_roc(model, \"Random Forest\")"
   ]
  },
  {
   "cell_type": "code",
   "execution_count": null,
   "metadata": {
    "collapsed": true
   },
   "outputs": [],
   "source": [
    "plot_learning_curve(model, \"Random Forest\", ylim=None)"
   ]
  },
  {
   "cell_type": "markdown",
   "metadata": {},
   "source": [
    "### Grid Search for Random Forest Using All Features"
   ]
  },
  {
   "cell_type": "raw",
   "metadata": {
    "collapsed": false,
    "scrolled": true
   },
   "source": [
    "%%time\n",
    "from sklearn.metrics import fbeta_score, make_scorer\n",
    "ftwo_scorer = make_scorer(fbeta_score, beta=2)\n",
    "from sklearn.grid_search import GridSearchCV\n",
    "from sklearn import ensemble\n",
    "grid = GridSearchCV(ensemble.RandomForestClassifier(), param_grid={'criterion':['gini','entropy'],\n",
    "        'min_samples_split':[1,2,6,10],'n_estimators': [1000, 1500, 2000],'max_features': ['auto']}, \n",
    "                     scoring='recall', cv=3, n_jobs=-1)\n",
    "\n",
    "# fit out model\n",
    "grid.fit(X_train, y_train)"
   ]
  },
  {
   "cell_type": "code",
   "execution_count": 63,
   "metadata": {
    "collapsed": false
   },
   "outputs": [
    {
     "name": "stdout",
     "output_type": "stream",
     "text": [
      "RandomForestClassifier(bootstrap=True, class_weight=None, criterion='entropy',\n",
      "            max_depth=None, max_features='auto', max_leaf_nodes=None,\n",
      "            min_samples_leaf=1, min_samples_split=6,\n",
      "            min_weight_fraction_leaf=0.0, n_estimators=10, n_jobs=-1,\n",
      "            oob_score=False, random_state=0, verbose=0, warm_start=False)\n",
      "\n",
      "Classification score using train set: 0.999298681877\n",
      "\n"
     ]
    },
    {
     "data": {
      "text/html": [
       "<div>\n",
       "<table border=\"1\" class=\"dataframe\">\n",
       "  <thead>\n",
       "    <tr style=\"text-align: right;\">\n",
       "      <th></th>\n",
       "      <th>0</th>\n",
       "    </tr>\n",
       "  </thead>\n",
       "  <tbody>\n",
       "    <tr>\n",
       "      <th>char_38</th>\n",
       "      <td>0.250044</td>\n",
       "    </tr>\n",
       "    <tr>\n",
       "      <th>group_1</th>\n",
       "      <td>0.236743</td>\n",
       "    </tr>\n",
       "    <tr>\n",
       "      <th>char_2_y</th>\n",
       "      <td>0.112833</td>\n",
       "    </tr>\n",
       "    <tr>\n",
       "      <th>julian_x</th>\n",
       "      <td>0.064773</td>\n",
       "    </tr>\n",
       "    <tr>\n",
       "      <th>char_7_y</th>\n",
       "      <td>0.064693</td>\n",
       "    </tr>\n",
       "    <tr>\n",
       "      <th>julian_y</th>\n",
       "      <td>0.056403</td>\n",
       "    </tr>\n",
       "    <tr>\n",
       "      <th>day_y</th>\n",
       "      <td>0.048000</td>\n",
       "    </tr>\n",
       "    <tr>\n",
       "      <th>char_8_y</th>\n",
       "      <td>0.042597</td>\n",
       "    </tr>\n",
       "    <tr>\n",
       "      <th>char_6_y</th>\n",
       "      <td>0.032421</td>\n",
       "    </tr>\n",
       "    <tr>\n",
       "      <th>month_y</th>\n",
       "      <td>0.030330</td>\n",
       "    </tr>\n",
       "    <tr>\n",
       "      <th>char_4_y</th>\n",
       "      <td>0.028080</td>\n",
       "    </tr>\n",
       "    <tr>\n",
       "      <th>char_5_y</th>\n",
       "      <td>0.026116</td>\n",
       "    </tr>\n",
       "    <tr>\n",
       "      <th>char_1_y</th>\n",
       "      <td>0.006967</td>\n",
       "    </tr>\n",
       "  </tbody>\n",
       "</table>\n",
       "</div>"
      ],
      "text/plain": [
       "                 0\n",
       "char_38   0.250044\n",
       "group_1   0.236743\n",
       "char_2_y  0.112833\n",
       "julian_x  0.064773\n",
       "char_7_y  0.064693\n",
       "julian_y  0.056403\n",
       "day_y     0.048000\n",
       "char_8_y  0.042597\n",
       "char_6_y  0.032421\n",
       "month_y   0.030330\n",
       "char_4_y  0.028080\n",
       "char_5_y  0.026116\n",
       "char_1_y  0.006967"
      ]
     },
     "execution_count": 63,
     "metadata": {},
     "output_type": "execute_result"
    }
   ],
   "source": [
    "print(model)\n",
    "print(\"\")\n",
    "# fit the model\n",
    "model.fit(X, y)\n",
    "# summarize the fit of the model\n",
    "score = model.score(X, y)\n",
    "print(\"Classification score using train set: {}\\n\".format(str(score)))\n",
    "pd.DataFrame(model.feature_importances_,index=X.columns).sort([0], ascending=False) [:]"
   ]
  },
  {
   "cell_type": "markdown",
   "metadata": {},
   "source": [
    "### Predict on Test Set"
   ]
  },
  {
   "cell_type": "code",
   "execution_count": 64,
   "metadata": {
    "collapsed": true
   },
   "outputs": [],
   "source": [
    "y_predict = model.predict_proba(Xt)"
   ]
  },
  {
   "cell_type": "code",
   "execution_count": 65,
   "metadata": {
    "collapsed": false
   },
   "outputs": [
    {
     "name": "stdout",
     "output_type": "stream",
     "text": [
      "[[ 0.58333333  0.41666667]\n",
      " [ 0.58333333  0.41666667]\n",
      " [ 0.15        0.85      ]\n",
      " ..., \n",
      " [ 1.          0.        ]\n",
      " [ 1.          0.        ]\n",
      " [ 1.          0.        ]]\n"
     ]
    }
   ],
   "source": [
    "print(y_predict)"
   ]
  },
  {
   "cell_type": "code",
   "execution_count": 66,
   "metadata": {
    "collapsed": true
   },
   "outputs": [],
   "source": [
    "yPred = y_predict[:,1]"
   ]
  },
  {
   "cell_type": "code",
   "execution_count": 67,
   "metadata": {
    "collapsed": false
   },
   "outputs": [],
   "source": [
    "current_time = datetime.datetime.now()"
   ]
  },
  {
   "cell_type": "code",
   "execution_count": 68,
   "metadata": {
    "collapsed": false
   },
   "outputs": [],
   "source": [
    "sub = pd.DataFrame()\n",
    "sub['activity_id'] = test['activity_id']\n",
    "sub['outcome'] = yPred.tolist()\n",
    "sub.to_csv('submission_rf_' + str(current_time.strftime(\"%Y-%m-%d-%H-%M\")) + '.csv', index=False)"
   ]
  },
  {
   "cell_type": "code",
   "execution_count": null,
   "metadata": {
    "collapsed": true
   },
   "outputs": [],
   "source": []
  }
 ],
 "metadata": {
  "kernelspec": {
   "display_name": "Python 3",
   "language": "python",
   "name": "python3"
  },
  "language_info": {
   "codemirror_mode": {
    "name": "ipython",
    "version": 3
   },
   "file_extension": ".py",
   "mimetype": "text/x-python",
   "name": "python",
   "nbconvert_exporter": "python",
   "pygments_lexer": "ipython3",
   "version": "3.4.3"
  }
 },
 "nbformat": 4,
 "nbformat_minor": 0
}
